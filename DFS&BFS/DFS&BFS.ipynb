{
 "cells": [
  {
   "cell_type": "code",
   "execution_count": 1,
   "id": "b1a2c076",
   "metadata": {},
   "outputs": [
    {
     "name": "stdout",
     "output_type": "stream",
     "text": [
      "[[(1, 7), (2, 5)], [(0, 7)], [(0, 5)]]\n"
     ]
    }
   ],
   "source": [
    "graph = [[] for _ in range(3)]\n",
    "\n",
    "graph[0].append((1,7))\n",
    "graph[0].append((2,5))\n",
    "\n",
    "graph[1].append((0,7))\n",
    "graph[2].append((0,5))\n",
    "\n",
    "print(graph)"
   ]
  },
  {
   "cell_type": "code",
   "execution_count": 3,
   "id": "a47162ee",
   "metadata": {},
   "outputs": [
    {
     "name": "stdout",
     "output_type": "stream",
     "text": [
      "3 3\n",
      "001\n",
      "010\n",
      "101\n",
      "3\n"
     ]
    }
   ],
   "source": [
    "n, m = map(int, input().split())\n",
    "\n",
    "graph = []\n",
    "for i in range(n):\n",
    "    graph.append(list(map(int, input())))\n",
    "    \n",
    "def dfs(x,y):\n",
    "    if x <= -1 or x >= n or y <= -1 or y >= n:\n",
    "        return False\n",
    "    if graph[x][y] == 0:\n",
    "        graph[x][y] = 1\n",
    "        dfs(x - 1 ,y)\n",
    "        dfs(x + 1, y)\n",
    "        dfs(x, y - 1)\n",
    "        dfs(x, y + 1)\n",
    "        return True\n",
    "    return False\n",
    "\n",
    "result = 0\n",
    "for i in range(n):\n",
    "    for j in range(m):\n",
    "        if dfs(i,j) == True:\n",
    "            result += 1\n",
    "            \n",
    "print(result)"
   ]
  },
  {
   "cell_type": "code",
   "execution_count": 19,
   "id": "10f2cc4a",
   "metadata": {},
   "outputs": [
    {
     "name": "stdout",
     "output_type": "stream",
     "text": [
      "3 3\n",
      "110\n",
      "010\n",
      "011\n",
      "0 0\n",
      "0 1\n",
      "1\n"
     ]
    }
   ],
   "source": [
    "from collections import deque\n",
    "\n",
    "n,m = map(int, input().split())\n",
    "graph = []\n",
    "for i in range(n):\n",
    "    graph.append(list(map(int, input())))\n",
    "\n",
    "dx = [-1,1,0,0]\n",
    "dy = [0,0,-1,1]\n",
    "\n",
    "def bfs(x,y):\n",
    "    queue = deque()\n",
    "    queue.append((x,y))\n",
    "    while queue:\n",
    "        x, y = queue.pop()\n",
    "        print(x,y)\n",
    "        for i in range(4):\n",
    "            nx = x + dx[i]\n",
    "            ny = x + dy[i]\n",
    "           \n",
    "            if nx < 0 or nx >= n or ny < 0 or ny >= m:\n",
    "                continue\n",
    "            if graph[nx][ny] == 0:\n",
    "                continue\n",
    "            if graph[nx][ny] == 1:\n",
    "                graph[nx][ny] = graph[x][y] + 1\n",
    "                queue.append((nx,ny))\n",
    "\n",
    "    return graph[n-1][m-1]\n",
    "\n",
    "print(bfs(0,0))"
   ]
  },
  {
   "cell_type": "code",
   "execution_count": null,
   "id": "af488bcd",
   "metadata": {},
   "outputs": [],
   "source": []
  }
 ],
 "metadata": {
  "kernelspec": {
   "display_name": "Python 3",
   "language": "python",
   "name": "python3"
  },
  "language_info": {
   "codemirror_mode": {
    "name": "ipython",
    "version": 3
   },
   "file_extension": ".py",
   "mimetype": "text/x-python",
   "name": "python",
   "nbconvert_exporter": "python",
   "pygments_lexer": "ipython3",
   "version": "3.8.10"
  }
 },
 "nbformat": 4,
 "nbformat_minor": 5
}
