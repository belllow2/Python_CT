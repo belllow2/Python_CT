{
 "cells": [
  {
   "cell_type": "code",
   "execution_count": null,
   "id": "608d3617",
   "metadata": {},
   "outputs": [],
   "source": [
    "n, m = map(int,input().split())\n",
    "length = list(map(int,input().split()))\n",
    "d_dict = {l:0 for l in length}\n",
    "print(d_dict)\n",
    "\n",
    "def search(length, target, start, end):\n",
    "    if start > end:\n",
    "        return False\n",
    "    mid = (start + end) // 2\n",
    "    tmp = 0\n",
    "    for i in range(len(length)):\n",
    "        if length[i] > mid:\n",
    "            tmp += length[i] - mid\n",
    "    print(start)\n",
    "    print(mid)\n",
    "    print(end)\n",
    "    print(\"tmp : \", + tmp)\n",
    "    if tmp == target:\n",
    "        return mid\n",
    "    elif tmp > target:\n",
    "        return search(length, target, start+(mid-start)+1, end)\n",
    "    else:\n",
    "        return search(length, target,start, end-(end-mid)-1)\n",
    "\n",
    "print(search(length,m,0,max(length)))"
   ]
  }
 ],
 "metadata": {
  "kernelspec": {
   "display_name": "Python 3",
   "language": "python",
   "name": "python3"
  },
  "language_info": {
   "codemirror_mode": {
    "name": "ipython",
    "version": 3
   },
   "file_extension": ".py",
   "mimetype": "text/x-python",
   "name": "python",
   "nbconvert_exporter": "python",
   "pygments_lexer": "ipython3",
   "version": "3.8.10"
  }
 },
 "nbformat": 4,
 "nbformat_minor": 5
}
