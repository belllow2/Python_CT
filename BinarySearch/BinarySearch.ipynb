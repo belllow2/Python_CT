{
 "cells": [
  {
   "cell_type": "code",
   "execution_count": 2,
   "id": "afcc43bd",
   "metadata": {},
   "outputs": [
    {
     "name": "stdout",
     "output_type": "stream",
     "text": [
      "\n"
     ]
    }
   ],
   "source": [
    "import sys\n",
    "\n",
    "input_data = sys.stdin.readline().rstrip()\n",
    "\n",
    "print(input_data)"
   ]
  },
  {
   "cell_type": "code",
   "execution_count": 63,
   "id": "aa36976d",
   "metadata": {},
   "outputs": [
    {
     "name": "stdout",
     "output_type": "stream",
     "text": [
      "5\n",
      "8 3 7 9 2\n",
      "3\n",
      "5 7 9\n",
      "{5: 'No', 7: 'No', 9: 'No'}\n",
      "[2, 3, 7, 8, 9]\n",
      "no yes yes "
     ]
    }
   ],
   "source": [
    "m = int(input())\n",
    "m_request = list(map(int, input().split()))\n",
    "c = int(input())\n",
    "c_request = list(map(int,input().split()))\n",
    "\n",
    "c_request = dict.fromkeys(c_request,'No')\n",
    "print(c_request)\n",
    "\n",
    "m_request.sort()\n",
    "print(m_request)\n",
    "def search(m_request,target,start,end):\n",
    "    if start > end:\n",
    "        return 'no'\n",
    "    \n",
    "    mid = (start + end) // 2\n",
    "\n",
    "    if target == m_request[mid]:\n",
    "        return 'yes'\n",
    "    \n",
    "\n",
    "    elif target < m_request[mid]:\n",
    "        return search(m_request,target,start,mid - 1)\n",
    "    else:\n",
    "        return search(m_request,target,mid + 1,end)\n",
    "\n",
    "\n",
    "for key,value in c_request.items():\n",
    "    c_request.update({key : search(m_request,key,0,m-1)})\n",
    "\n",
    "for value in c_request.values():\n",
    "    print(value, end=' ')"
   ]
  },
  {
   "cell_type": "code",
   "execution_count": 64,
   "id": "cda5ac2e",
   "metadata": {},
   "outputs": [
    {
     "name": "stdout",
     "output_type": "stream",
     "text": [
      "5\n",
      "8 3 7 9 2\n",
      "3\n",
      "5 7 9\n",
      "no yes yes "
     ]
    }
   ],
   "source": [
    "n = int(input())\n",
    "array = [0] * 1000000\n",
    "\n",
    "for i in input().split():\n",
    "    array[int(i)] = 1\n",
    "\n",
    "m = int(input())\n",
    "x = list(map(int, input().split()))\n",
    "\n",
    "for i in x:\n",
    "    if array[i] == 1:\n",
    "        print('yes', end=' ')\n",
    "    else:\n",
    "        print('no', end=' ')"
   ]
  },
  {
   "cell_type": "code",
   "execution_count": 65,
   "id": "040ee797",
   "metadata": {},
   "outputs": [
    {
     "name": "stdout",
     "output_type": "stream",
     "text": [
      "5\n",
      "8 3 7 9 2\n",
      "3\n",
      "5 7 9\n",
      "no yes yes "
     ]
    }
   ],
   "source": [
    "n = int(input())\n",
    "array = set(map(int,input().split()))\n",
    "\n",
    "m = int(input())\n",
    "x = list(map(int,input().split()))\n",
    "\n",
    "for i in x:\n",
    "    if i in array:\n",
    "        print('yes', end=' ')\n",
    "    else:\n",
    "        print('no', end=' ')"
   ]
  },
  {
   "cell_type": "code",
   "execution_count": 83,
   "id": "4da6ec95",
   "metadata": {},
   "outputs": [
    {
     "name": "stdout",
     "output_type": "stream",
     "text": [
      "4 6\n",
      "19 15 10 17\n",
      "{19: 0, 15: 0, 10: 0, 17: 0}\n",
      "0\n",
      "9\n",
      "19\n",
      "tmp :  25\n",
      "10\n",
      "14\n",
      "19\n",
      "tmp :  9\n",
      "15\n",
      "17\n",
      "19\n",
      "tmp :  2\n",
      "15\n",
      "15\n",
      "16\n",
      "tmp :  6\n",
      "15\n"
     ]
    }
   ],
   "source": [
    "n, m = map(int,input().split())\n",
    "length = list(map(int,input().split()))\n",
    "d_dict = {l:0 for l in length}\n",
    "print(d_dict)\n",
    "\n",
    "def search(length, target, start, end):\n",
    "    if start > end:\n",
    "        return False\n",
    "    mid = (start + end) // 2\n",
    "    tmp = 0\n",
    "    for i in range(len(length)):\n",
    "        if length[i] > mid:\n",
    "            tmp += length[i] - mid\n",
    "    print(start)\n",
    "    print(mid)\n",
    "    print(end)\n",
    "    print(\"tmp : \", + tmp)\n",
    "    if tmp == target:\n",
    "        return mid\n",
    "    elif tmp > target:\n",
    "        return search(length, target, start+(mid-start)+1, end)\n",
    "    else:\n",
    "        return search(length, target,start, end-(end-mid)-1)\n",
    "\n",
    "print(search(length,m,0,max(length)))"
   ]
  },
  {
   "cell_type": "code",
   "execution_count": null,
   "id": "f8421d13",
   "metadata": {},
   "outputs": [],
   "source": []
  }
 ],
 "metadata": {
  "kernelspec": {
   "display_name": "Python 3",
   "language": "python",
   "name": "python3"
  },
  "language_info": {
   "codemirror_mode": {
    "name": "ipython",
    "version": 3
   },
   "file_extension": ".py",
   "mimetype": "text/x-python",
   "name": "python",
   "nbconvert_exporter": "python",
   "pygments_lexer": "ipython3",
   "version": "3.8.10"
  }
 },
 "nbformat": 4,
 "nbformat_minor": 5
}
