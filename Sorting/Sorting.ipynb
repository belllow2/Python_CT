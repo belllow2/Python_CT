{
 "cells": [
  {
   "cell_type": "code",
   "execution_count": 7,
   "id": "1435580b",
   "metadata": {},
   "outputs": [
    {
     "name": "stdout",
     "output_type": "stream",
     "text": [
      "[0, 1, 2, 3, 4, 5, 6, 7, 8, 9]\n"
     ]
    }
   ],
   "source": [
    "d_list = [5,7,9,0,3,1,6,2,4,8]\n",
    "\n",
    "def quick_sort(list, start, end):\n",
    "    if start >= end:\n",
    "        return\n",
    "    pivot=start\n",
    "    left = start + 1\n",
    "    right = end\n",
    "    while left <= right:\n",
    "        while left <= end and d_list[left] <= d_list[pivot]:\n",
    "            left += 1\n",
    "        while right > start and d_list[right] >= d_list[pivot]:\n",
    "            right -= 1\n",
    "        if left > right:\n",
    "            d_list[right], d_list[pivot] = d_list[pivot], d_list[right]\n",
    "        else:\n",
    "            d_list[left], d_list[right] = d_list[right], d_list[left]\n",
    "    quick_sort(d_list,start,right-1)\n",
    "    quick_sort(d_list,right+1, end)\n",
    "    \n",
    "#quick_sort(d_list,0,len(d_list)-1)\n",
    "#print(d_list)\n",
    "\n",
    "def quick_sort2(d_list):\n",
    "    if len(d_list) <= 1:\n",
    "        return d_list\n",
    "    \n",
    "    pivot = d_list[0]\n",
    "    tail = d_list[1:]\n",
    "    \n",
    "    left = [x for x in tail if x <= pivot]\n",
    "    right = [x for x in tail if x > pivot]\n",
    "    \n",
    "    return quick_sort2(left) + [pivot] + quick_sort2(right)\n",
    "\n",
    "print(quick_sort2(d_list))"
   ]
  },
  {
   "cell_type": "code",
   "execution_count": 13,
   "id": "d0b022fc",
   "metadata": {},
   "outputs": [
    {
     "name": "stdout",
     "output_type": "stream",
     "text": [
      "0 0 1 1 2 2 3 4 5 5 6 7 8 9 9 [2, 2, 2, 1, 1, 2, 1, 1, 1, 2, 0, 0, 0, 0, 0, 0]\n"
     ]
    }
   ],
   "source": [
    "array = [7,5,9,0,3,1,6,2,9,1,4,8,0,5,2]\n",
    "count = [0] * (len(array) + 1)\n",
    "\n",
    "for i in range(len(array)):\n",
    "    count[array[i]] += 1\n",
    "\n",
    "for i in range(len(count)):\n",
    "    for j in range(count[i]):\n",
    "        print(i, end=' ')\n",
    "print(count)"
   ]
  },
  {
   "cell_type": "code",
   "execution_count": 25,
   "id": "2e749607",
   "metadata": {},
   "outputs": [
    {
     "name": "stdout",
     "output_type": "stream",
     "text": [
      "3\n",
      "15\n",
      "27\n",
      "12\n",
      "27 15 12 "
     ]
    }
   ],
   "source": [
    "n = int(input())\n",
    "d_list = []\n",
    "for i in range(n):\n",
    "    d_list.append(int(input()))\n",
    "result = sorted(d_list, reverse=True)\n",
    "\n",
    "for i in result:\n",
    "    print(i, end=' ')"
   ]
  },
  {
   "cell_type": "code",
   "execution_count": 76,
   "id": "0e3f9dce",
   "metadata": {},
   "outputs": [
    {
     "name": "stdout",
     "output_type": "stream",
     "text": [
      "2\n",
      "홍길동 95\n",
      "이순신 77\n",
      "이순신 홍길동 "
     ]
    },
    {
     "data": {
      "text/plain": [
       "[None, None]"
      ]
     },
     "execution_count": 76,
     "metadata": {},
     "output_type": "execute_result"
    }
   ],
   "source": [
    "n = int(input())\n",
    "d_dict = {}\n",
    "for i in range(n):\n",
    "    input_data = input().split()\n",
    "    d_dict[input_data[0]] = input_data[1]\n",
    "\n",
    "[print(key, end=' ') for key,value in sorted(d_dict.items())]\n",
    "   "
   ]
  },
  {
   "cell_type": "code",
   "execution_count": 89,
   "id": "cb9d8435",
   "metadata": {},
   "outputs": [
    {
     "name": "stdout",
     "output_type": "stream",
     "text": [
      "5 3\n",
      "1 2 5 4 3\n",
      "5 5 6 6 5\n",
      "26\n"
     ]
    }
   ],
   "source": [
    "n, k = map(int, input().split())\n",
    "\n",
    "a = list(map(int, input().split()))\n",
    "b = list(map(int, input().split()))\n",
    "\n",
    "a.sort()\n",
    "b.sort()\n",
    "\n",
    "for i in range(k):\n",
    "    if a[i] < b[-i]:\n",
    "        a[i],b[-i] = b[-i],a[i]\n",
    "    else:\n",
    "        break\n",
    "\n",
    "        \n",
    "print(sum(a))"
   ]
  },
  {
   "cell_type": "code",
   "execution_count": null,
   "id": "cbaee23d",
   "metadata": {},
   "outputs": [],
   "source": []
  }
 ],
 "metadata": {
  "kernelspec": {
   "display_name": "Python 3",
   "language": "python",
   "name": "python3"
  },
  "language_info": {
   "codemirror_mode": {
    "name": "ipython",
    "version": 3
   },
   "file_extension": ".py",
   "mimetype": "text/x-python",
   "name": "python",
   "nbconvert_exporter": "python",
   "pygments_lexer": "ipython3",
   "version": "3.8.10"
  }
 },
 "nbformat": 4,
 "nbformat_minor": 5
}
