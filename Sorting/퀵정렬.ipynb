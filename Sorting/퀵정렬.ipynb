{
 "cells": [
  {
   "cell_type": "code",
   "execution_count": null,
   "id": "fc9542c2",
   "metadata": {},
   "outputs": [],
   "source": [
    "d_list = [5,7,9,0,3,1,6,2,4,8]\n",
    "\n",
    "def quick_sort(list, start, end):\n",
    "    if start >= end:\n",
    "        return\n",
    "    pivot=start\n",
    "    left = start + 1\n",
    "    right = end\n",
    "    while left <= right:\n",
    "        while left <= end and d_list[left] <= d_list[pivot]:\n",
    "            left += 1\n",
    "        while right > start and d_list[right] >= d_list[pivot]:\n",
    "            right -= 1\n",
    "        if left > right:\n",
    "            d_list[right], d_list[pivot] = d_list[pivot], d_list[right]\n",
    "        else:\n",
    "            d_list[left], d_list[right] = d_list[right], d_list[left]\n",
    "    quick_sort(d_list,start,right-1)\n",
    "    quick_sort(d_list,right+1, end)\n",
    "    \n",
    "#quick_sort(d_list,0,len(d_list)-1)\n",
    "#print(d_list)\n",
    "\n",
    "def quick_sort2(d_list):\n",
    "    if len(d_list) <= 1:\n",
    "        return d_list\n",
    "    \n",
    "    pivot = d_list[0]\n",
    "    tail = d_list[1:]\n",
    "    \n",
    "    left = [x for x in tail if x <= pivot]\n",
    "    right = [x for x in tail if x > pivot]\n",
    "    \n",
    "    return quick_sort2(left) + [pivot] + quick_sort2(right)\n",
    "\n",
    "print(quick_sort2(d_list))"
   ]
  }
 ],
 "metadata": {
  "kernelspec": {
   "display_name": "Python 3",
   "language": "python",
   "name": "python3"
  },
  "language_info": {
   "codemirror_mode": {
    "name": "ipython",
    "version": 3
   },
   "file_extension": ".py",
   "mimetype": "text/x-python",
   "name": "python",
   "nbconvert_exporter": "python",
   "pygments_lexer": "ipython3",
   "version": "3.8.10"
  }
 },
 "nbformat": 4,
 "nbformat_minor": 5
}
