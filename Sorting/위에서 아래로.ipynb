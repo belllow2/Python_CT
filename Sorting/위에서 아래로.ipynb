{
 "cells": [
  {
   "cell_type": "code",
   "execution_count": null,
   "id": "dbde9c0b",
   "metadata": {},
   "outputs": [],
   "source": [
    "n = int(input())\n",
    "d_list = []\n",
    "for i in range(n):\n",
    "    d_list.append(int(input()))\n",
    "result = sorted(d_list, reverse=True)\n",
    "\n",
    "for i in result:\n",
    "    print(i, end=' ')"
   ]
  }
 ],
 "metadata": {
  "kernelspec": {
   "display_name": "Python 3",
   "language": "python",
   "name": "python3"
  },
  "language_info": {
   "codemirror_mode": {
    "name": "ipython",
    "version": 3
   },
   "file_extension": ".py",
   "mimetype": "text/x-python",
   "name": "python",
   "nbconvert_exporter": "python",
   "pygments_lexer": "ipython3",
   "version": "3.8.10"
  }
 },
 "nbformat": 4,
 "nbformat_minor": 5
}
