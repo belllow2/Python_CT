{
 "cells": [
  {
   "cell_type": "code",
   "execution_count": null,
   "id": "3c9b42bd",
   "metadata": {},
   "outputs": [],
   "source": [
    "array = [7,5,9,0,3,1,6,2,9,1,4,8,0,5,2]\n",
    "count = [0] * (len(array) + 1)\n",
    "\n",
    "for i in range(len(array)):\n",
    "    count[array[i]] += 1\n",
    "\n",
    "for i in range(len(count)):\n",
    "    for j in range(count[i]):\n",
    "        print(i, end=' ')\n",
    "print(count)"
   ]
  }
 ],
 "metadata": {
  "kernelspec": {
   "display_name": "Python 3",
   "language": "python",
   "name": "python3"
  },
  "language_info": {
   "codemirror_mode": {
    "name": "ipython",
    "version": 3
   },
   "file_extension": ".py",
   "mimetype": "text/x-python",
   "name": "python",
   "nbconvert_exporter": "python",
   "pygments_lexer": "ipython3",
   "version": "3.8.10"
  }
 },
 "nbformat": 4,
 "nbformat_minor": 5
}
